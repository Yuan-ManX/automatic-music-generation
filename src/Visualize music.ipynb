{
 "cells": [
  {
   "cell_type": "code",
   "execution_count": 1,
   "metadata": {},
   "outputs": [],
   "source": [
    "import numpy as np\n",
    "import matplotlib.pyplot as plt\n",
    "from music21 import *\n",
    "import glob\n",
    "from collections import Counter\n",
    "import pretty_midi"
   ]
  },
  {
   "cell_type": "code",
   "execution_count": 2,
   "metadata": {},
   "outputs": [
    {
     "name": "stdout",
     "output_type": "stream",
     "text": [
      "The number of unique pitches in the song: 56\n"
     ]
    },
    {
     "data": {
      "image/png": "[encoded data removed]",
      "text/plain": [
       "<Figure size 1125x288 with 1 Axes>"
      ]
     },
     "metadata": {
      "needs_background": "light"
     },
     "output_type": "display_data"
    }
   ],
   "source": [
    "sampling_rate = 16\n",
    "\n",
    "def generate_combine_piano_roll(midi_data, fs, program=None): #Function to generate piano roll format for the input song\n",
    "    mat = None\n",
    "    for inst in midi_data.instruments:\n",
    "        inst.remove_invalid_notes() #removes the invalid notes in the song\n",
    "        if inst.is_drum == False and (program is None or inst.program == program):\n",
    "            inst_mat = inst.get_piano_roll(fs=fs) \n",
    "            if mat is None:\n",
    "                mat = inst_mat\n",
    "            elif inst_mat.shape == mat.shape:\n",
    "                mat += inst_mat\n",
    "            elif inst_mat.shape[1] < mat.shape[1]:\n",
    "                inst_mat = np.pad(inst_mat, ((0,0),(0,mat.shape[1]-inst_mat.shape[1])), mode='constant')\n",
    "                mat += inst_mat\n",
    "            else:\n",
    "                mat = np.pad(mat, ((0,0),(0,inst_mat.shape[1] - mat.shape[1])), mode='constant')\n",
    "                mat += inst_mat\n",
    "    \n",
    "    if mat is None:\n",
    "        return None\n",
    "    \n",
    "    mat[mat > 0] = 1\n",
    "    return mat.T\n",
    "\n",
    "\n",
    "def plot_pianoroll(FILE):\n",
    "    midi_data = pretty_midi.PrettyMIDI(FILE)\n",
    "    new_mat = generate_combine_piano_roll(midi_data, sampling_rate)\n",
    "    mat= new_mat[:500,:] #changing the time steps to visualize the piano roll format\n",
    "    matrix_new = new_mat.sum(axis=0) #To find the unique pitches in the song\n",
    "    print(\"The number of unique pitches in the song:\",np.count_nonzero(matrix_new))\n",
    "    \n",
    "    cax = plt.matshow(mat.T, aspect=\"auto\", vmin=0, vmax=1, cmap=\"gray_r\")\n",
    "    plt.gca().invert_yaxis()\n",
    "    plt.title('Part of a Song in Piano roll Format')\n",
    "    plt.xlabel('Time steps')\n",
    "    plt.ylabel('Pitch')\n",
    "    plt.savefig('pianoroll.png')\n",
    "    plt.show()\n",
    "    \n",
    "FILE  = '02.Metallica-The Four Horsemen.mid'\n",
    "plot_pianoroll(FILE)"
   ]
  },
  {
   "cell_type": "code",
   "execution_count": 3,
   "metadata": {},
   "outputs": [
    {
     "name": "stdout",
     "output_type": "stream",
     "text": [
      "The number of unique pitches in the song: 12\n"
     ]
    },
    {
     "data": {
      "image/png": "[encoded data removed]",
      "text/plain": [
       "<Figure size 540x288 with 1 Axes>"
      ]
     },
     "metadata": {
      "needs_background": "light"
     },
     "output_type": "display_data"
    }
   ],
   "source": [
    "#op\n",
    "op  = 'music_Withguitar.mid'\n",
    "plot_pianoroll(op)"
   ]
  },
  {
   "cell_type": "code",
   "execution_count": null,
   "metadata": {},
   "outputs": [],
   "source": []
  }
 ],
 "metadata": {
  "kernelspec": {
   "display_name": "Python 3",
   "language": "python",
   "name": "python3"
  },
  "language_info": {
   "codemirror_mode": {
    "name": "ipython",
    "version": 3
   },
   "file_extension": ".py",
   "mimetype": "text/x-python",
   "name": "python",
   "nbconvert_exporter": "python",
   "pygments_lexer": "ipython3",
   "version": "3.7.9"
  }
 },
 "nbformat": 4,
 "nbformat_minor": 4
}
